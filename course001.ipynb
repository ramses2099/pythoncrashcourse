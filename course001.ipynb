{
 "cells": [
  {
   "cell_type": "markdown",
   "id": "5deaf3ce-3737-478e-84b3-f58154e3b981",
   "metadata": {},
   "source": [
    "### Replace the ___ placeholder and calculate the Golden ratio:  \n",
    "\n",
    "### Tip: to calculate the square root of a number \n",
    "## x, you can use x**(1/2)."
   ]
  },
  {
   "cell_type": "code",
   "execution_count": 1,
   "id": "739bc253-4632-4988-ae1d-61573bc8aff4",
   "metadata": {},
   "outputs": [],
   "source": [
    "x = 5"
   ]
  },
  {
   "cell_type": "code",
   "execution_count": 4,
   "id": "07337fc4-cb4d-470c-8e4e-3a2f5e0a5bfc",
   "metadata": {},
   "outputs": [],
   "source": [
    "r = 1 + x**(1/2) / 2"
   ]
  },
  {
   "cell_type": "code",
   "execution_count": 5,
   "id": "4f917c33-d77c-4dee-8cb0-3115966977b7",
   "metadata": {},
   "outputs": [
    {
     "data": {
      "text/plain": [
       "2.118033988749895"
      ]
     },
     "execution_count": 5,
     "metadata": {},
     "output_type": "execute_result"
    }
   ],
   "source": [
    "r"
   ]
  },
  {
   "cell_type": "code",
   "execution_count": 6,
   "id": "2c31c759-04b0-42ad-975b-eee3ef9fc350",
   "metadata": {},
   "outputs": [
    {
     "name": "stdout",
     "output_type": "stream",
     "text": [
      "-7.625\n"
     ]
    }
   ],
   "source": [
    "print(15+5+(3*2)/4**2+(3-7)*7)"
   ]
  },
  {
   "cell_type": "markdown",
   "id": "aa02e970-30a2-4ebc-abb4-39a7ed4cd4c7",
   "metadata": {},
   "source": [
    "### Assuming there are 60 minutes in an hour, write a program that calculates the number of minutes in a 24 hour day. Print the result on the screen. Note: Your result should be in the format of just a number, not a sentence."
   ]
  },
  {
   "cell_type": "code",
   "execution_count": 7,
   "id": "6d19c583-3f7c-4994-8186-eb4061a7030a",
   "metadata": {},
   "outputs": [],
   "source": [
    "m = 60 * 24"
   ]
  },
  {
   "cell_type": "code",
   "execution_count": 8,
   "id": "b81c5abf-8b3d-49b8-92d7-8a937403103e",
   "metadata": {},
   "outputs": [
    {
     "data": {
      "text/plain": [
       "1440"
      ]
     },
     "execution_count": 8,
     "metadata": {},
     "output_type": "execute_result"
    }
   ],
   "source": [
    "m"
   ]
  },
  {
   "cell_type": "markdown",
   "id": "cdc41c8d-d5ae-4139-8587-3defd634c5a8",
   "metadata": {},
   "source": [
    "### Use Python to calculate how many different passwords can be formed with 6 lower case English letters (excludes any character not found in the English alphabet).  For a 1 letter password, there would be 26 possibilities.  For a 2 letter password, each letter is independent of the other, so there would be 26 times 26 possibilities.  Using this information, print the amount of possible passwords that can be formed with 6 letters."
   ]
  },
  {
   "cell_type": "code",
   "execution_count": 26,
   "id": "5ae383ac-5c2c-4979-9130-b4cb4aec85f0",
   "metadata": {},
   "outputs": [],
   "source": [
    "# Should print 308915776\n",
    "r =26**6"
   ]
  },
  {
   "cell_type": "code",
   "execution_count": 27,
   "id": "05ab48c3-ef0b-4907-90ab-c19c270af4c4",
   "metadata": {},
   "outputs": [
    {
     "data": {
      "text/plain": [
       "308915776"
      ]
     },
     "execution_count": 27,
     "metadata": {},
     "output_type": "execute_result"
    }
   ],
   "source": [
    "r"
   ]
  },
  {
   "cell_type": "code",
   "execution_count": 28,
   "id": "f412e505-9d8b-4c9c-97ff-97d50844a5b0",
   "metadata": {},
   "outputs": [
    {
     "name": "stdout",
     "output_type": "stream",
     "text": [
      "40960000\n"
     ]
    }
   ],
   "source": [
    "download_size_kb = 200*1024\n",
    "total_computers = 200\n",
    "total_kbs = total_computers * download_size_kb\n",
    "\n",
    "\n",
    "print(total_kbs) # Should print 40960000.0"
   ]
  },
  {
   "cell_type": "code",
   "execution_count": null,
   "id": "f0238562-5aed-4d0a-ae30-be6ba9783236",
   "metadata": {},
   "outputs": [],
   "source": []
  }
 ],
 "metadata": {
  "kernelspec": {
   "display_name": "Python 3 (ipykernel)",
   "language": "python",
   "name": "python3"
  },
  "language_info": {
   "codemirror_mode": {
    "name": "ipython",
    "version": 3
   },
   "file_extension": ".py",
   "mimetype": "text/x-python",
   "name": "python",
   "nbconvert_exporter": "python",
   "pygments_lexer": "ipython3",
   "version": "3.10.10"
  }
 },
 "nbformat": 4,
 "nbformat_minor": 5
}
